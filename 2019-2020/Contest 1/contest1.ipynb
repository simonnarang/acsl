{
 "cells": [
  {
   "cell_type": "code",
   "execution_count": 2,
   "metadata": {},
   "outputs": [
    {
     "name": "stdout",
     "output_type": "stream",
     "text": [
      "193648\n",
      "873173\n",
      "95322341\n",
      "86727361\n",
      "831752441\n"
     ]
    }
   ],
   "source": [
    "inputText = open('/Users/simonnarang/acsl/2019-2020/Contest 1/int-sample-input.txt', 'r')\n",
    "for l in inputText:\n",
    "    n, p = l.split('  ')\n",
    "    # Make p left-indexed instead of right-indexed.. more intuitive\n",
    "    p = len(n) - int(p)\n",
    "    c_p = int(n[p])\n",
    "    output = list(n)\n",
    "    for i in range(len(n)):\n",
    "        c = int(n[i])\n",
    "        if i < p:\n",
    "            output[i] = str(c_p+c)[-1]\n",
    "        if i > p:\n",
    "            output[i] = str(abs(c-c_p))[-1]\n",
    "    print(''.join(output))"
   ]
  },
  {
   "cell_type": "code",
   "execution_count": null,
   "metadata": {},
   "outputs": [],
   "source": []
  }
 ],
 "metadata": {
  "kernelspec": {
   "display_name": "Python 3",
   "language": "python",
   "name": "python3"
  },
  "language_info": {
   "codemirror_mode": {
    "name": "ipython",
    "version": 3
   },
   "file_extension": ".py",
   "mimetype": "text/x-python",
   "name": "python",
   "nbconvert_exporter": "python",
   "pygments_lexer": "ipython3",
   "version": "3.7.3"
  }
 },
 "nbformat": 4,
 "nbformat_minor": 4
}
